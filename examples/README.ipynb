{
 "cells": [
  {
   "cell_type": "markdown",
   "metadata": {
    "editable": true,
    "slideshow": {
     "slide_type": "slide"
    },
    "tags": []
   },
   "source": [
    "## Jupyter"
   ]
  },
  {
   "cell_type": "code",
   "execution_count": 1,
   "metadata": {
    "editable": true,
    "slideshow": {
     "slide_type": ""
    },
    "tags": []
   },
   "outputs": [
    {
     "data": {
      "text/plain": [
       "'Презентация о Jupyter в Jupyter'"
      ]
     },
     "execution_count": 1,
     "metadata": {},
     "output_type": "execute_result"
    }
   ],
   "source": [
    "# Жми Shift-Enter внутри ячейки кода\n",
    "str = 'Jupyter'\n",
    "f'Презентация о {str} в {str}'"
   ]
  },
  {
   "cell_type": "markdown",
   "metadata": {
    "editable": false,
    "slideshow": {
     "slide_type": ""
    },
    "tags": []
   },
   "source": [
    "* github user: Placebo-relay\n",
    "* плагин: RISE\n",
    "* исполнение: mybinder.org"
   ]
  },
  {
   "cell_type": "markdown",
   "metadata": {
    "editable": false,
    "slideshow": {
     "slide_type": ""
    },
    "tags": []
   },
   "source": [
    "Жми `Space` для продолжения."
   ]
  },
  {
   "cell_type": "markdown",
   "metadata": {
    "editable": false,
    "slideshow": {
     "slide_type": "subslide"
    },
    "tags": []
   },
   "source": [
    "Jupyter Notebooks = ?"
   ]
  },
  {
   "cell_type": "markdown",
   "metadata": {
    "editable": false,
    "slideshow": {
     "slide_type": "fragment"
    },
    "tags": []
   },
   "source": [
    ".ipynb документы, комбинирующие блоки запускаемого кода с текстом в Markdown-разметке, формулами (LaTeX), изображениями, интерактивными визуализациями и другими форматами выходных данных"
   ]
  },
  {
   "cell_type": "markdown",
   "metadata": {
    "editable": false,
    "slideshow": {
     "slide_type": "subslide"
    },
    "tags": []
   },
   "source": [
    "Что делает плагин RISE?"
   ]
  },
  {
   "cell_type": "markdown",
   "metadata": {
    "editable": true,
    "slideshow": {
     "slide_type": "fragment"
    },
    "tags": []
   },
   "source": [
    "jupyter notebooks -> slideshows"
   ]
  },
  {
   "cell_type": "markdown",
   "metadata": {
    "editable": true,
    "slideshow": {
     "slide_type": "slide"
    },
    "tags": []
   },
   "source": [
    " 0. Немного хронологии"
   ]
  },
  {
   "cell_type": "markdown",
   "metadata": {
    "editable": true,
    "slideshow": {
     "slide_type": "subslide"
    },
    "tags": []
   },
   "source": [
    "- 2011: IPython Notebooks (Python)\n",
    "- 2014-2015: Jupyter Project\n",
    "    - Jupyter Notebooks\n",
    "    - JupyterHub (Julia, Python, R)\n",
    "- 2018: **JupyterLab**\n",
    "    - JavaScript, TypeScript, C++, Go, Ruby, Scala, MATLAB, Kotlin, Swift, Rust, Perl, PHP, Fortran, Lua, Shell, Groovy, ...\n",
    "- 2022: Codespaces: +**JupyterLab**"
   ]
  },
  {
   "cell_type": "markdown",
   "metadata": {
    "editable": true,
    "slideshow": {
     "slide_type": "slide"
    },
    "tags": []
   },
   "source": [
    "1. Возможности"
   ]
  },
  {
   "cell_type": "markdown",
   "metadata": {
    "editable": true,
    "slideshow": {
     "slide_type": "fragment"
    },
    "tags": []
   },
   "source": [
    "Типы ячеек в Jupyter:\n",
    "- **Code**\n",
    "- *Markdown* [Help по Markdown](https://commonmark.org/help/)\n",
    "- ~~Raw~~"
   ]
  },
  {
   "cell_type": "code",
   "execution_count": 2,
   "metadata": {
    "cell_style": "center",
    "editable": true,
    "scrolled": true,
    "slideshow": {
     "slide_type": "fragment"
    },
    "tags": []
   },
   "outputs": [
    {
     "data": {
      "text/plain": [
       "'Hello, group 325'"
      ]
     },
     "execution_count": 2,
     "metadata": {},
     "output_type": "execute_result"
    }
   ],
   "source": [
    "# Code -> Shift-Enter\n",
    "name = 'group 325'\n",
    "f\"Hello, {name}\""
   ]
  },
  {
   "cell_type": "markdown",
   "metadata": {
    "cell_style": "center",
    "editable": true,
    "slideshow": {
     "slide_type": "subslide"
    },
    "tags": []
   },
   "source": [
    "Markdown\n",
    "```python\n",
    "# py\n",
    "def greet():\n",
    "    print(\"Hello, World!\")\n",
    "```\n",
    "```C++\n",
    "// cpp\n",
    "#include <iostream>\n",
    "int main() {\n",
    "    std::cout << \"Hello, World!\" << std::endl;\n",
    "    return 0;\n",
    "}\n",
    "```"
   ]
  },
  {
   "cell_type": "raw",
   "metadata": {
    "cell_style": "center",
    "editable": true,
    "raw_mimetype": "",
    "slideshow": {
     "slide_type": "fragment"
    },
    "tags": []
   },
   "source": [
    "Raw\n",
    "\n",
    "```python\n",
    "# py\n",
    "def greet():\n",
    "    print(\"Hello, World!\")\n",
    "```\n",
    "```C++\n",
    "// cpp\n",
    "#include <iostream>\n",
    "int main() {\n",
    "    std::cout << \"Hello, World!\" << std::endl;\n",
    "    return 0;\n",
    "}\n",
    "```"
   ]
  },
  {
   "cell_type": "markdown",
   "metadata": {
    "editable": true,
    "slideshow": {
     "slide_type": "slide"
    },
    "tags": []
   },
   "source": [
    "Браузерные кнопки для масштабирования: `Alt +` and `Alt -` (или `Ctrl` вместо `Alt` зависит от системы)."
   ]
  },
  {
   "cell_type": "markdown",
   "metadata": {
    "editable": true,
    "slideshow": {
     "slide_type": "subslide"
    },
    "tags": []
   },
   "source": [
    "жми `CTRL`+`SHIFT`+`C` для вызова списка команд"
   ]
  },
  {
   "cell_type": "markdown",
   "metadata": {
    "editable": true,
    "slideshow": {
     "slide_type": "subslide"
    },
    "tags": []
   },
   "source": [
    "Доступ к LaTeX + датасетам + библиотекам обработки"
   ]
  },
  {
   "cell_type": "markdown",
   "metadata": {
    "editable": true,
    "slideshow": {
     "slide_type": "fragment"
    },
    "tags": []
   },
   "source": [
    "$$\n",
    "\\int_{a}^{b} x^2 \\, dx\n",
    "$$"
   ]
  },
  {
   "cell_type": "markdown",
   "metadata": {
    "editable": true,
    "slideshow": {
     "slide_type": "fragment"
    },
    "tags": []
   },
   "source": [
    "```latex\n",
    "$$\n",
    "\\int_{a}^{b} x^2 \\, dx\n",
    "$$\n",
    "```"
   ]
  },
  {
   "cell_type": "markdown",
   "metadata": {
    "editable": true,
    "slideshow": {
     "slide_type": "fragment"
    },
    "tags": []
   },
   "source": [
    "Примеры LaTeX-Jupyter лекции:\n",
    "\n",
    "* от hukenovs \"dsp-theory\" (Github, GPL-3): \n",
    "[gColab](https://colab.research.google.com/github/hukenovs/dsp-theory/blob/master/src/dsp_theory_1_signals.ipynb)\n",
    "* от AllenDowney \"thinkdsp\" (Github): \n",
    "[Binder](http://mybinder.org/repo/AllenDowney/ThinkDSP)"
   ]
  },
  {
   "cell_type": "markdown",
   "metadata": {
    "editable": true,
    "slideshow": {
     "slide_type": "subslide"
    },
    "tags": []
   },
   "source": [
    "1. **Атом**\n",
    "\n",
    "$$\n",
    "^{A}_{Z}X\n",
    "$$\n",
    "\n",
    "где:\n",
    "- A = число нуклонов (протоны + нейтроны)\n",
    "- Z = атомное число (число протонов)\n",
    "- X = Химический символ"
   ]
  },
  {
   "cell_type": "markdown",
   "metadata": {
    "editable": true,
    "jp-MarkdownHeadingCollapsed": true,
    "slideshow": {
     "slide_type": "fragment"
    },
    "tags": []
   },
   "source": [
    "2. **Хим. реакции**\n",
    "\n",
    "$$\n",
    "aA + bB \\rightarrow cC + dD\n",
    "$$\n",
    "\n",
    "Где:\n",
    "- A, B, = Реагенты\n",
    "- C, D = Продукты\n",
    "- a, b, c, d = стоихометрические коэфф."
   ]
  },
  {
   "cell_type": "markdown",
   "metadata": {
    "editable": true,
    "slideshow": {
     "slide_type": "slide"
    },
    "tags": []
   },
   "source": [
    "2. Лицензия BSD-3-Clause (разрешено всё, жми `CTRL`+`SHIFT`+`C` команду Licenses)\n",
    "\n",
    "* https://jupyter.org\n",
    "* https://github.com/jupyter"
   ]
  },
  {
   "cell_type": "markdown",
   "metadata": {
    "editable": true,
    "slideshow": {
     "slide_type": "slide"
    },
    "tags": []
   },
   "source": [
    "3. Подсветка, автодополнение, сворачивание"
   ]
  },
  {
   "cell_type": "markdown",
   "metadata": {
    "editable": true,
    "slideshow": {
     "slide_type": "fragment"
    },
    "tags": []
   },
   "source": [
    "* Подсветка 40+ языков, в т.ч. внутри Markdown\n",
    "* Редактирует текст .txt .md, скрипты языков программирования\n",
    "* Открывает и подсвечивает такие форматы как CSV, JSON, TEX"
   ]
  },
  {
   "cell_type": "markdown",
   "metadata": {
    "editable": true,
    "slideshow": {
     "slide_type": "fragment"
    },
    "tags": []
   },
   "source": [
    "* Автодополнение клавишей Tab (вне слайдов RISE)\n",
    "\n",
    "```python\n",
    "juputer_variable = 3\n",
    "# курсор в конец print(ju и жми TAB\n",
    "print(jup\n",
    "```"
   ]
  },
  {
   "cell_type": "markdown",
   "metadata": {
    "editable": true,
    "slideshow": {
     "slide_type": "subslide"
    },
    "tags": []
   },
   "source": [
    "* Сворачивание\n",
    "    * только для ячеек или по заголовкам\n",
    "    * но не кода (в открытом скрипте не свернуть)\n",
    "    * есть Плагин `codefolding` для этого"
   ]
  },
  {
   "cell_type": "markdown",
   "metadata": {
    "editable": true,
    "slideshow": {
     "slide_type": "slide"
    },
    "tags": []
   },
   "source": [
    "4. Без PEP8"
   ]
  },
  {
   "cell_type": "markdown",
   "metadata": {
    "editable": true,
    "slideshow": {
     "slide_type": "fragment"
    },
    "tags": []
   },
   "source": [
    "* но всегда есть плагины и есть доступ к консоли, в т.ч. в блоке (`autopep8`, `flake8`, `pylint`)"
   ]
  },
  {
   "cell_type": "code",
   "execution_count": 3,
   "metadata": {
    "editable": true,
    "slideshow": {
     "slide_type": "subslide"
    },
    "tags": []
   },
   "outputs": [
    {
     "name": "stdout",
     "output_type": "stream",
     "text": [
      "************* Module example\n",
      "example.py:3:0: C0301: Line too long (123/100) (line-too-long)\n",
      "example.py:1:0: C0114: Missing module docstring (missing-module-docstring)\n",
      "example.py:2:0: C0116: Missing function or method docstring (missing-function-docstring)\n",
      "\n",
      "------------------------------------------------------------------\n",
      "Your code has been rated at 4.00/10 (previous run: 6.00/10, -2.00)\n",
      "\n",
      "\u001b[1mreformatted example.py\u001b[0m\n",
      "\n",
      "\u001b[1mAll done! ✨ 🍰 ✨\u001b[0m\n",
      "\u001b[34m\u001b[1m1 file \u001b[0m\u001b[1mreformatted\u001b[0m.\n",
      "************* Module example\n",
      "example.py:1:0: C0114: Missing module docstring (missing-module-docstring)\n",
      "example.py:1:0: C0116: Missing function or method docstring (missing-function-docstring)\n",
      "\n",
      "------------------------------------------------------------------\n",
      "Your code has been rated at 6.00/10 (previous run: 4.00/10, +2.00)\n",
      "\n"
     ]
    }
   ],
   "source": [
    "python_code = \"\"\"\n",
    "def greet(name):\n",
    "    message = \"Hello, \" + name + 'nnnnnnnnnnnnnnnnnnnnnnnnnnnnnnnnnnnnnnnnnnnnnnnnnnnnnnnnnnnnnnnnnnnnnnnnnnnnnnnnnnnnnnnn'\n",
    "    print(message)\n",
    "\n",
    "greet(\"Alice\")\n",
    "greet(\"Bob\")\n",
    "\"\"\"\n",
    "\n",
    "with open('example.py', 'w') as file:\n",
    "    file.write(python_code)\n",
    "\n",
    "!pip install pylint black > /dev/null 2>&1\n",
    "!pylint example.py\n",
    "!black example.py\n",
    "!pylint example.py\n"
   ]
  },
  {
   "cell_type": "markdown",
   "metadata": {
    "editable": true,
    "slideshow": {
     "slide_type": "subslide"
    },
    "tags": []
   },
   "source": [
    "> Отдельно всегда можно поискать расширения автоформаттеров и линтеров ввиде доп. кнопок"
   ]
  },
  {
   "cell_type": "markdown",
   "metadata": {
    "editable": true,
    "slideshow": {
     "slide_type": "slide"
    },
    "tags": []
   },
   "source": [
    "5. Внутреннее окружение env\n",
    "\n",
    "* можно настраивать в консоли, можно в ячейке, вызывая !команду"
   ]
  },
  {
   "cell_type": "markdown",
   "metadata": {
    "editable": true,
    "slideshow": {
     "slide_type": ""
    },
    "tags": []
   },
   "source": [
    "```bash\n",
    "!pip list\n",
    "!conda env list\n",
    "!conda activate <environment_name>\n",
    "```"
   ]
  },
  {
   "cell_type": "code",
   "execution_count": 4,
   "metadata": {
    "editable": true,
    "slideshow": {
     "slide_type": ""
    },
    "tags": []
   },
   "outputs": [
    {
     "name": "stdout",
     "output_type": "stream",
     "text": [
      "# conda environments:\n",
      "#\n",
      "base                     /opt/conda\n",
      "\n"
     ]
    }
   ],
   "source": [
    "!conda env list"
   ]
  },
  {
   "cell_type": "markdown",
   "metadata": {
    "editable": true,
    "slideshow": {
     "slide_type": "slide"
    },
    "tags": []
   },
   "source": [
    "6. Обработка ошибок %debug\n",
    "\n",
    "* на основе ядра и окружения (Python, base)"
   ]
  },
  {
   "cell_type": "markdown",
   "metadata": {
    "editable": true,
    "slideshow": {
     "slide_type": "fragment"
    },
    "tags": []
   },
   "source": [
    "* можно вызвать дебаггер магией в ячейке"
   ]
  },
  {
   "cell_type": "markdown",
   "metadata": {
    "editable": true,
    "slideshow": {
     "slide_type": "slide"
    },
    "tags": []
   },
   "source": [
    "* можно установить `ipdb`,`pdb`, плагин `PixieDebugger`"
   ]
  },
  {
   "cell_type": "markdown",
   "metadata": {
    "editable": true,
    "slideshow": {
     "slide_type": "slide"
    },
    "tags": []
   },
   "source": [
    "7. Extensions\n",
    "\n",
    "рекомендую: [awesome-jupyter list](https://github.com/markusschanta/awesome-jupyter) (Github, CC-BY-SA-4.0 license)"
   ]
  },
  {
   "cell_type": "markdown",
   "metadata": {
    "editable": true,
    "slideshow": {
     "slide_type": "subslide"
    },
    "tags": []
   },
   "source": [
    "Мои топ-5:\n",
    "1. Презентация сделана в `RISE`."
   ]
  },
  {
   "cell_type": "markdown",
   "metadata": {
    "editable": true,
    "slideshow": {
     "slide_type": "fragment"
    },
    "tags": []
   },
   "source": [
    "2. Автоформаттеры isort/black: `nb_black`, `jupyterlab_code_formatter`."
   ]
  },
  {
   "cell_type": "markdown",
   "metadata": {
    "editable": true,
    "slideshow": {
     "slide_type": "fragment"
    },
    "tags": []
   },
   "source": [
    "3. Уже упомянут ранее `codefolding` для сворачивания кода. Для языков можно добавить соотв. `lsp`, Language Server Protocol integration for Jupyter, это круче `codefolding`."
   ]
  },
  {
   "cell_type": "markdown",
   "metadata": {
    "editable": true,
    "slideshow": {
     "slide_type": "fragment"
    },
    "tags": []
   },
   "source": [
    "4. Ядра вроде `xeus-cling`(C++), `jupyROOT` (C++, Python)."
   ]
  },
  {
   "cell_type": "markdown",
   "metadata": {
    "editable": true,
    "slideshow": {
     "slide_type": "fragment"
    },
    "tags": []
   },
   "source": [
    "5. `PixieDebugger` для интерактивного дебага"
   ]
  },
  {
   "cell_type": "markdown",
   "metadata": {
    "editable": true,
    "slideshow": {
     "slide_type": "slide"
    },
    "tags": []
   },
   "source": [
    "8. Уникальные фичи + ссылка на ядра\n",
    "\n",
    "BSD-3-clause = благодаря открытости кода Jupyter Project появилось немало сервисов (бесплатных и платных), которые хостят и запускают jupyter notebooks. Можно запросто захостить Jupyter на базе университета, мультипользовательски, используя JupyterHub. Можно облачно используя Binder/gColab."
   ]
  },
  {
   "cell_type": "markdown",
   "metadata": {
    "editable": true,
    "slideshow": {
     "slide_type": "subslide"
    },
    "tags": []
   },
   "source": [
    "1. **Jupyter Notebook Server**: [Jupyter](https://jupyter.org/)\n",
    "2. **JupyterHub**: [JupyterHub](https://jupyter.org/hub)\n",
    "3. **Binder**: [Binder](https://mybinder.org/)\n",
    "4. **Google Colab**: [Google Colab](https://colab.research.google.com/)\n",
    "5. **Kaggle Kernels**: [Kaggle Kernels](https://www.kaggle.com/kernels)\n",
    "6. **Azure Notebooks**: [Azure Notebooks](https://notebooks.azure.com/)\n",
    "7. **AWS SageMaker**: [AWS SageMaker](https://aws.amazon.com/sagemaker/)"
   ]
  },
  {
   "cell_type": "markdown",
   "metadata": {
    "editable": true,
    "slideshow": {
     "slide_type": "subslide"
    },
    "tags": []
   },
   "source": [
    "[Kernels](https://github.com/jupyter/jupyter/wiki/Jupyter-kernels)\n",
    "\n",
    "1. IPython - IPython\n",
    "2. IRkernel - IRkernel\n",
    "3. Julia - IJulia\n",
    "4. Matlab - MATLAB Engine for Python\n",
    "5. Scala - Apache Toree\n",
    "6. Haskell - IHaskell\n",
    "7. C++ - Xeus-Cling\n",
    "8. Go - Gopher\n",
    "9. Swift - Swift for TensorFlow\n",
    "10. Node.js - ijavascript"
   ]
  },
  {
   "cell_type": "markdown",
   "metadata": {
    "editable": true,
    "slideshow": {
     "slide_type": "slide"
    },
    "tags": []
   },
   "source": [
    "9. Ресурсы (4GB + >1 core)\n",
    "\n",
    "* по ресурсам: Notebook < Lab\n",
    "* но с новыми апдейтами Notebook внедряет больше фичей и source code от Lab\n",
    "    - что позволяет использовать плагины от Lab в Notebook"
   ]
  },
  {
   "cell_type": "markdown",
   "metadata": {
    "editable": false,
    "slideshow": {
     "slide_type": "slide"
    },
    "tags": []
   },
   "source": [
    "10. Вывод + PS. test %timeit magic"
   ]
  },
  {
   "cell_type": "markdown",
   "metadata": {
    "editable": true,
    "slideshow": {
     "slide_type": "fragment"
    },
    "tags": []
   },
   "source": [
    "Jupyter Notebook - это веб-приложение с **открытым исходным кодом**, которое позволяет создавать и делиться документами, содержащими **живой код**, **уравнения**, **визуализации** и **текст повествования**.\n",
    "\n",
    "Он поддерживает более 100 языков программирования благодаря своей системе ядер, включая Python, R, Julia и другие."
   ]
  },
  {
   "cell_type": "markdown",
   "metadata": {
    "editable": true,
    "slideshow": {
     "slide_type": "subslide"
    },
    "tags": []
   },
   "source": [
    "https://ipython.readthedocs.io/en/stable/interactive/magics.html"
   ]
  },
  {
   "cell_type": "code",
   "execution_count": 5,
   "metadata": {
    "editable": false,
    "slideshow": {
     "slide_type": "subslide"
    },
    "tags": []
   },
   "outputs": [
    {
     "name": "stdout",
     "output_type": "stream",
     "text": [
      "Created `%t` as an alias for `%timeit`.\n",
      "Created `%%t` as an alias for `%%timeit`.\n"
     ]
    }
   ],
   "source": [
    "%alias_magic t timeit"
   ]
  },
  {
   "cell_type": "code",
   "execution_count": 6,
   "metadata": {
    "editable": false,
    "slideshow": {
     "slide_type": "fragment"
    },
    "tags": []
   },
   "outputs": [
    {
     "name": "stdout",
     "output_type": "stream",
     "text": [
      "10 ns ± 0.672 ns per loop (mean ± std. dev. of 7 runs, 100,000,000 loops each)\n"
     ]
    }
   ],
   "source": [
    "%t a = 1"
   ]
  },
  {
   "cell_type": "markdown",
   "metadata": {
    "editable": true,
    "slideshow": {
     "slide_type": "slide"
    },
    "tags": []
   },
   "source": [
    "PPS Links\n",
    "\n",
    "[![Binder](https://mybinder.org/badge_logo.svg)](https://mybinder.org/v2/gh/Placebo-relay/edulab/main?labpath=jupy.ipynb)\n",
    "\n",
    "[myBinder](https://mybinder.org/v2/gh/Placebo-relay/edulab/main?labpath=jupy.ipynb)\n",
    "\n",
    "[ThinkDSP](https://mybinder.org/repo/AllenDowney/ThinkDSP)\n",
    "\n",
    "[dsp-theory](https://mybinder.org/repo/AllenDowney/ThinkDSP)\n",
    "\n",
    "[NBVIEW hukenovs](https://nbviewer.org/github/hukenovs/dsp-theory/blob/master/src/dsp_theory_1_signals.ipynb)\n",
    "\n",
    "[myGcolab](https://colab.research.google.com/drive/1KRNDUU2lZpnA1BsovOX7Le8TaZAfNRdp?usp=sharing#scrollTo=4lA0w8FpZMf-)"
   ]
  },
  {
   "cell_type": "code",
   "execution_count": null,
   "metadata": {
    "editable": true,
    "slideshow": {
     "slide_type": ""
    },
    "tags": []
   },
   "outputs": [],
   "source": []
  }
 ],
 "metadata": {
  "celltoolbar": "Slideshow",
  "jupytext": {
   "formats": "ipynb"
  },
  "kernelspec": {
   "display_name": "Python 3 (ipykernel)",
   "language": "python",
   "name": "python3"
  },
  "language_info": {
   "codemirror_mode": {
    "name": "ipython",
    "version": 3
   },
   "file_extension": ".py",
   "mimetype": "text/x-python",
   "name": "python",
   "nbconvert_exporter": "python",
   "pygments_lexer": "ipython3",
   "version": "3.10.13"
  },
  "rise": {
   "autolaunch": true,
   "enable_chalkboard": true
  }
 },
 "nbformat": 4,
 "nbformat_minor": 4
}
